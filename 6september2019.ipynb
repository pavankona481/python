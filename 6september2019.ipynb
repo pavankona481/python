{
 "cells": [
  {
   "cell_type": "markdown",
   "metadata": {},
   "source": [
    "# Day objectives\n",
    "\n",
    "1.Creating contacts using dictionaries\n",
    "2.searching for a contact\n",
    "3.Packages and modules\n",
    "4.Regular expression and\n",
    "5.File heading"
   ]
  },
  {
   "cell_type": "code",
   "execution_count": 11,
   "metadata": {},
   "outputs": [
    {
     "name": "stdout",
     "output_type": "stream",
     "text": [
      "contact added successfully\n"
     ]
    }
   ],
   "source": [
    "# Adding a contact\n",
    "##name,phone number \n",
    "contacts={}\n",
    "def addcontact(name,phonenumber):\n",
    "    if name not in contacts:\n",
    "        contacts[name]=phonenumber\n",
    "        print(\"contact added successfully\")\n",
    "    else:\n",
    "        print(\"contact already exists\")    \n",
    "addcontact('name1',6845128751) \n"
   ]
  },
  {
   "cell_type": "code",
   "execution_count": 12,
   "metadata": {},
   "outputs": [
    {
     "data": {
      "text/plain": [
       "{'name1': 6845128751}"
      ]
     },
     "execution_count": 12,
     "metadata": {},
     "output_type": "execute_result"
    }
   ],
   "source": [
    "contacts"
   ]
  },
  {
   "cell_type": "code",
   "execution_count": 16,
   "metadata": {},
   "outputs": [
    {
     "name": "stdout",
     "output_type": "stream",
     "text": [
      "name1 : 6845128751\n"
     ]
    }
   ],
   "source": [
    "## search a contact\n",
    "#using key \"name\"\n",
    "def searchcontact(name):\n",
    "    if name in contacts:\n",
    "        print(name,\":\",contacts[name])\n",
    "    else:\n",
    "        print(\"Doesnot exists\")\n",
    "searchcontact('name1')        \n",
    "        "
   ]
  },
  {
   "cell_type": "code",
   "execution_count": 19,
   "metadata": {},
   "outputs": [
    {
     "name": "stdout",
     "output_type": "stream",
     "text": [
      "2 contact added successfully\n"
     ]
    }
   ],
   "source": [
    "## merging two contacts\n",
    "#using update method\n",
    "def mergecontact(newcontact):\n",
    "    contacts.update(newcontact)\n",
    "    print((len(newcontact.keys())),\"contact added successfully\")\n",
    "newcontact={'name2':4864564634,'name3':4454545354354}\n",
    "mergecontact(newcontact)\n",
    "           \n",
    "    "
   ]
  },
  {
   "cell_type": "code",
   "execution_count": 20,
   "metadata": {},
   "outputs": [
    {
     "data": {
      "text/plain": [
       "{'name1': 6845128751, 'name2': 4864564634, 'name3': 4454545354354}"
      ]
     },
     "execution_count": 20,
     "metadata": {},
     "output_type": "execute_result"
    }
   ],
   "source": [
    "contacts"
   ]
  },
  {
   "cell_type": "code",
   "execution_count": 22,
   "metadata": {},
   "outputs": [
    {
     "name": "stdout",
     "output_type": "stream",
     "text": [
      "contact added successfully\n"
     ]
    }
   ],
   "source": [
    "contacts={}\n",
    "def mobilecontact(a,phonenumber):\n",
    "    if a not in contacts:\n",
    "        contacts[a]=phonenumber\n",
    "        print(\"contact added successfully\")\n",
    "    else:\n",
    "        print(\"contact already exists\")    \n",
    "addcontact('a',9989870478)"
   ]
  },
  {
   "cell_type": "code",
   "execution_count": 23,
   "metadata": {},
   "outputs": [
    {
     "name": "stdout",
     "output_type": "stream",
     "text": [
      "a : 9989870478\n"
     ]
    }
   ],
   "source": [
    "def searchcontact(a):\n",
    "    if a in contacts:\n",
    "        print(a,\":\",contacts[a])\n",
    "    else:\n",
    "        print(\"Doesnot exists\")\n",
    "searchcontact('a')     "
   ]
  },
  {
   "cell_type": "code",
   "execution_count": 24,
   "metadata": {},
   "outputs": [
    {
     "name": "stdout",
     "output_type": "stream",
     "text": [
      "1 contact added successfully\n"
     ]
    }
   ],
   "source": [
    "def applemobile(newcontact):\n",
    "    contacts.update(newcontact)\n",
    "    print((len(newcontact.keys())),\"contact added successfully\")\n",
    "newcontact={'b':9989970478}\n",
    "mergecontact(newcontact)"
   ]
  },
  {
   "cell_type": "code",
   "execution_count": 26,
   "metadata": {},
   "outputs": [
    {
     "data": {
      "text/plain": [
       "{'a': 9989870478, 'b': 9989970478}"
      ]
     },
     "execution_count": 26,
     "metadata": {},
     "output_type": "execute_result"
    }
   ],
   "source": [
    "contacts"
   ]
  },
  {
   "cell_type": "markdown",
   "metadata": {},
   "source": [
    "# packages & module\n",
    "#### packages->collection of modules\n",
    "#### module-> collection of functions"
   ]
  },
  {
   "cell_type": "code",
   "execution_count": 3,
   "metadata": {},
   "outputs": [
    {
     "data": {
      "text/plain": [
       "123"
      ]
     },
     "execution_count": 3,
     "metadata": {},
     "output_type": "execute_result"
    }
   ],
   "source": [
    "from math import floor\n",
    "floor(123.576)"
   ]
  },
  {
   "cell_type": "code",
   "execution_count": 2,
   "metadata": {},
   "outputs": [
    {
     "data": {
      "text/plain": [
       "False"
      ]
     },
     "execution_count": 2,
     "metadata": {},
     "output_type": "execute_result"
    }
   ],
   "source": [
    "from packages.numerical import isprime\n",
    "isprime(10)"
   ]
  },
  {
   "cell_type": "code",
   "execution_count": 4,
   "metadata": {},
   "outputs": [
    {
     "data": {
      "text/plain": [
       "True"
      ]
     },
     "execution_count": 4,
     "metadata": {},
     "output_type": "execute_result"
    }
   ],
   "source": [
    "from packages.numerical1 import variable\n",
    "variable(5,5)"
   ]
  },
  {
   "cell_type": "code",
   "execution_count": 5,
   "metadata": {},
   "outputs": [
    {
     "name": "stdout",
     "output_type": "stream",
     "text": [
      "42\n",
      "57\n",
      "69\n",
      "35\n",
      "40\n",
      "33\n",
      "4\n",
      "91\n",
      "58\n",
      "62\n"
     ]
    }
   ],
   "source": [
    "## generate marks using \"random\" prebuilt function\n",
    "import random\n",
    "def generatemarks(n,lb,ub):\n",
    "    for i in range(0,n):\n",
    "        print(random.randint(lb,ub))\n",
    "generatemarks(10,0,100)"
   ]
  },
  {
   "cell_type": "markdown",
   "metadata": {},
   "source": [
    "# regular expression\n",
    "## character                               usecase\n",
    "     []                                 represent a character\n",
    "     ^                                  matches the begining\n",
    "     $                                  matches the ending\n",
    "     *                                  number of occurance\n",
    "     +                                  number of occcurance\n",
    "     .                                  to match a character\n",
    "     ?                                  for zero or one occurance\n",
    "     !                                  or\n",
    "# pattren matching\n",
    "     \n",
    " #### 1.[0-9]->any digit\n",
    " #### 2.[a-z]->any lower case alphabet\n",
    " #### 3.[2468]->all single digit multiples of2\n",
    " #### 4.^[0-9]{1}$ only single digit numbers\n",
    " #### 5.^[0-9]{3}$ only 3 digit numbers\n",
    " #### 6.[0-9]*0$ all multiples of 10\n",
    " #### 7 #### .^([1-9][0-9]*[05])|[5])-> all multiples of 5\n",
    " #### 8.[w][o][r][d] or (word)->searching for a 'word'\n",
    "\n"
   ]
  },
  {
   "cell_type": "code",
   "execution_count": 20,
   "metadata": {},
   "outputs": [
    {
     "name": "stdout",
     "output_type": "stream",
     "text": [
      "valid\n"
     ]
    }
   ],
   "source": [
    "## function for phone number validation using\n",
    "## regular expression\n",
    "import re\n",
    "def phonenumbervalidator(number):\n",
    "    pattern='^[6-9][0-9]{9}$'\n",
    "    if re.match(pattern,number):\n",
    "        print(\"valid\")\n",
    "    else:\n",
    "        print(\"invlid\")\n",
    "phonenumbervalidator('7301899983')"
   ]
  },
  {
   "cell_type": "code",
   "execution_count": 21,
   "metadata": {},
   "outputs": [
    {
     "name": "stdout",
     "output_type": "stream",
     "text": [
      "valid\n"
     ]
    }
   ],
   "source": [
    "import re\n",
    "def validator(number):\n",
    "    pattern='^[0-9][0-9]{9}$'\n",
    "    if re.match(pattern,number):\n",
    "        print(\"valid\")\n",
    "    else:\n",
    "        print(\"invlid\")\n",
    "validator('0301899983')"
   ]
  },
  {
   "cell_type": "code",
   "execution_count": 28,
   "metadata": {},
   "outputs": [
    {
     "name": "stdout",
     "output_type": "stream",
     "text": [
      "valid\n"
     ]
    }
   ],
   "source": [
    "##pattren for emeil validation\n",
    "import re\n",
    "def email(em):\n",
    "    pattern=\"^[a-z0-9][a-z0-9_.]{3,18}[@][a-z0-9]{4,18}[.][a-z]{2,4}$\"\n",
    "    if re.match(pattern,em):\n",
    "        print(\"valid\")\n",
    "    else:\n",
    "        print(\"invlid\")\n",
    "email(\"pavankona508@gmail.com\")"
   ]
  },
  {
   "cell_type": "markdown",
   "metadata": {},
   "source": [
    "## File Handling\n",
    "- It's a collection of related informantion\n",
    "- basic steps\n",
    "- performing operations\n",
    "- closing file"
   ]
  },
  {
   "cell_type": "markdown",
   "metadata": {},
   "source": [
    "# syntax: file_object=open(\"filepath\",\"mode\")"
   ]
  },
  {
   "cell_type": "code",
   "execution_count": 27,
   "metadata": {},
   "outputs": [
    {
     "name": "stdout",
     "output_type": "stream",
     "text": [
      "line 1\n",
      "line 3               line 2\n"
     ]
    }
   ],
   "source": [
    "f = open(\"datafiles/data.txt\",\"r\")\n",
    "print(f.read())\n",
    "f.close()"
   ]
  },
  {
   "cell_type": "code",
   "execution_count": 28,
   "metadata": {},
   "outputs": [],
   "source": [
    "with open(\"datafiles/data.txt\",\"a+\") as f:\n",
    "    f.write(\"line 2\")"
   ]
  },
  {
   "cell_type": "code",
   "execution_count": 36,
   "metadata": {},
   "outputs": [
    {
     "name": "stdout",
     "output_type": "stream",
     "text": [
      "mini\n",
      "44\n"
     ]
    },
    {
     "data": {
      "text/plain": [
       "4"
      ]
     },
     "execution_count": 36,
     "metadata": {},
     "output_type": "execute_result"
    }
   ],
   "source": [
    "d = open(\"datafiles/data.txt\",\"a+\")\n",
    "print(d.read())\n",
    "print(d.tell())\n",
    "d.write(\"mini\")"
   ]
  },
  {
   "cell_type": "code",
   "execution_count": 40,
   "metadata": {},
   "outputs": [
    {
     "name": "stdout",
     "output_type": "stream",
     "text": [
      "line 1\n",
      "line 3               line 2line 2mini\n"
     ]
    }
   ],
   "source": [
    "def readfile(filepath):\n",
    "    with open(filepath, 'r')as f:\n",
    "        filedata =f.read()\n",
    "        return filedata\n",
    "    \n",
    "filepath = 'datafiles/data.txt'\n",
    "print(readfile(filepath))"
   ]
  },
  {
   "cell_type": "code",
   "execution_count": 45,
   "metadata": {},
   "outputs": [
    {
     "name": "stdout",
     "output_type": "stream",
     "text": [
      "3\n"
     ]
    }
   ],
   "source": [
    "def linecount(filename):\n",
    "    count=0\n",
    "    with open(filename,'r') as f:\n",
    "        for i in f:\n",
    "            count = count+1\n",
    "    return count\n",
    "filename='datafiles/data.txt'\n",
    "print(linecount(filename))"
   ]
  },
  {
   "cell_type": "code",
   "execution_count": 48,
   "metadata": {},
   "outputs": [
    {
     "name": "stdout",
     "output_type": "stream",
     "text": [
      "8\n"
     ]
    }
   ],
   "source": [
    "import re \n",
    "def wordcount(filepath):\n",
    "    pattern= '[ \\n]'\n",
    "    filedata = readfile(filepath)\n",
    "    count = len(re.split(pattern,filedata)) \n",
    "    return count\n",
    "filepath='datafiles/data.txt'\n",
    "print(wordcount(filepath))       "
   ]
  },
  {
   "cell_type": "code",
   "execution_count": 65,
   "metadata": {},
   "outputs": [],
   "source": [
    "def uniquedata(filepath):\n",
    "    with open(filepath) as f:\n",
    "        data=f.read()\n",
    "        allwords=data.split()\n",
    "        unique=[]\n",
    "        for element in allwords:\n",
    "            if i not in uniquedata:\n",
    "                uniquedata.append(i)\n",
    "        return uiquedata\n"
   ]
  },
  {
   "cell_type": "code",
   "execution_count": 66,
   "metadata": {},
   "outputs": [],
   "source": [
    "def wordfrequency(filepath):\n",
    "        with open(filepath) as f:\n",
    "            fh=f.read()\n",
    "        words=fh.split()\n",
    "        wordfreq=[]\n",
    "        for element in allwords:\n",
    "            if element not in wordfreq:\n",
    "                wordfreq[element]<1\n",
    "            else:\n",
    "                wordfreq[element]=1\n",
    "\n",
    "            "
   ]
  },
  {
   "cell_type": "markdown",
   "metadata": {},
   "source": [
    "# sets"
   ]
  },
  {
   "cell_type": "code",
   "execution_count": 67,
   "metadata": {},
   "outputs": [
    {
     "data": {
      "text/plain": [
       "['__and__',\n",
       " '__class__',\n",
       " '__contains__',\n",
       " '__delattr__',\n",
       " '__dir__',\n",
       " '__doc__',\n",
       " '__eq__',\n",
       " '__format__',\n",
       " '__ge__',\n",
       " '__getattribute__',\n",
       " '__gt__',\n",
       " '__hash__',\n",
       " '__iand__',\n",
       " '__init__',\n",
       " '__init_subclass__',\n",
       " '__ior__',\n",
       " '__isub__',\n",
       " '__iter__',\n",
       " '__ixor__',\n",
       " '__le__',\n",
       " '__len__',\n",
       " '__lt__',\n",
       " '__ne__',\n",
       " '__new__',\n",
       " '__or__',\n",
       " '__rand__',\n",
       " '__reduce__',\n",
       " '__reduce_ex__',\n",
       " '__repr__',\n",
       " '__ror__',\n",
       " '__rsub__',\n",
       " '__rxor__',\n",
       " '__setattr__',\n",
       " '__sizeof__',\n",
       " '__str__',\n",
       " '__sub__',\n",
       " '__subclasshook__',\n",
       " '__xor__',\n",
       " 'add',\n",
       " 'clear',\n",
       " 'copy',\n",
       " 'difference',\n",
       " 'difference_update',\n",
       " 'discard',\n",
       " 'intersection',\n",
       " 'intersection_update',\n",
       " 'isdisjoint',\n",
       " 'issubset',\n",
       " 'issuperset',\n",
       " 'pop',\n",
       " 'remove',\n",
       " 'symmetric_difference',\n",
       " 'symmetric_difference_update',\n",
       " 'union',\n",
       " 'update']"
      ]
     },
     "execution_count": 67,
     "metadata": {},
     "output_type": "execute_result"
    }
   ],
   "source": [
    "dir(set)"
   ]
  },
  {
   "cell_type": "code",
   "execution_count": 9,
   "metadata": {},
   "outputs": [
    {
     "name": "stdout",
     "output_type": "stream",
     "text": [
      "{1, 'abc', 23, 123, 'alit'}\n",
      "{8554, 'lok', 'esh'}\n"
     ]
    }
   ],
   "source": [
    "s1={\"abc\",1,\"alit\",123,123,\"alit\"}\n",
    "s2={\"lok\",\"esh\",8554,8554}\n",
    "s1.add(23)\n",
    "print(s1)\n",
    "print(s2.union())\n"
   ]
  },
  {
   "cell_type": "code",
   "execution_count": 10,
   "metadata": {},
   "outputs": [
    {
     "name": "stdout",
     "output_type": "stream",
     "text": [
      "{1, 23, 'alit', 123, 'abc'}\n"
     ]
    }
   ],
   "source": [
    "print(s1.intersection())"
   ]
  },
  {
   "cell_type": "code",
   "execution_count": 11,
   "metadata": {},
   "outputs": [
    {
     "name": "stdout",
     "output_type": "stream",
     "text": [
      "{8554, 'lok', 'esh'}\n"
     ]
    }
   ],
   "source": [
    "print(s2.difference())"
   ]
  },
  {
   "cell_type": "code",
   "execution_count": 27,
   "metadata": {},
   "outputs": [
    {
     "name": "stdout",
     "output_type": "stream",
     "text": [
      "3 x 5 = 15\n",
      "3 x 6 = 18\n",
      "3 x 7 = 21\n"
     ]
    }
   ],
   "source": [
    "#program for generating multiplication of table use functions in python\n",
    "def mul(num):\n",
    "    for i in range(5, 8):\n",
    "        print(num,'x',i,'=',num*i)\n",
    "mul(3)"
   ]
  },
  {
   "cell_type": "code",
   "execution_count": 28,
   "metadata": {},
   "outputs": [],
   "source": [
    "#write a programe for linear search in a list using functions \n",
    "#if key is found print \"1\"\n",
    "# else print \"-1\"\n",
    "#i/p l=[10,9,8,7,6],5\n",
    "#o/p:-1"
   ]
  },
  {
   "cell_type": "code",
   "execution_count": 29,
   "metadata": {},
   "outputs": [],
   "source": [
    "#find the sqrt of a number in list \n",
    "#with out using \n",
    "#math packages"
   ]
  },
  {
   "cell_type": "code",
   "execution_count": null,
   "metadata": {},
   "outputs": [],
   "source": [
    "#using a regular expression\n",
    "#add a name,phonenumber and email to contacts\n",
    "#dictionary"
   ]
  }
 ],
 "metadata": {
  "kernelspec": {
   "display_name": "Python 3",
   "language": "python",
   "name": "python3"
  },
  "language_info": {
   "codemirror_mode": {
    "name": "ipython",
    "version": 3
   },
   "file_extension": ".py",
   "mimetype": "text/x-python",
   "name": "python",
   "nbconvert_exporter": "python",
   "pygments_lexer": "ipython3",
   "version": "3.6.5"
  }
 },
 "nbformat": 4,
 "nbformat_minor": 2
}
